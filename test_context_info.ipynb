{
 "cells": [
  {
   "cell_type": "code",
   "execution_count": 1,
   "metadata": {},
   "outputs": [],
   "source": [
    "import psutil"
   ]
  },
  {
   "cell_type": "code",
   "execution_count": 2,
   "metadata": {},
   "outputs": [
    {
     "data": {
      "text/plain": [
       "(2, 4)"
      ]
     },
     "execution_count": 2,
     "metadata": {},
     "output_type": "execute_result"
    }
   ],
   "source": [
    "# core, hw threads\n",
    "( psutil.cpu_count(logical=False), psutil.cpu_count(logical=True))"
   ]
  },
  {
   "cell_type": "code",
   "execution_count": 3,
   "metadata": {},
   "outputs": [
    {
     "name": "stdout",
     "output_type": "stream",
     "text": [
      "max frequency:3000.0\n"
     ]
    }
   ],
   "source": [
    "frequency = psutil.cpu_freq(percpu=False)\n",
    "print (\"max frequency:{}\".format(frequency.max))"
   ]
  },
  {
   "cell_type": "code",
   "execution_count": 4,
   "metadata": {},
   "outputs": [
    {
     "name": "stdout",
     "output_type": "stream",
     "text": [
      "svmem(total=8257839104, available=5879726080, percent=28.8, used=1976303616, free=4720906240, active=2132082688, inactive=1020530688, buffers=190758912, cached=1369870336, shared=119132160, slab=195923968)\n",
      "\n",
      "physical mem: 8257839104\n"
     ]
    }
   ],
   "source": [
    "virtual = psutil.virtual_memory()\n",
    "print virtual \n",
    "print \"\"\n",
    "\n",
    "print \"physical mem: {}\".format(virtual.total)\n"
   ]
  },
  {
   "cell_type": "code",
   "execution_count": 5,
   "metadata": {},
   "outputs": [
    {
     "name": "stdout",
     "output_type": "stream",
     "text": [
      "host name: 'don-Inspiron-7537'\n"
     ]
    }
   ],
   "source": [
    "import socket\n",
    "print(\"host name: '{}'\".format(socket.gethostname()))"
   ]
  },
  {
   "cell_type": "code",
   "execution_count": 6,
   "metadata": {},
   "outputs": [
    {
     "data": {
      "text/plain": [
       "'don'"
      ]
     },
     "execution_count": 6,
     "metadata": {},
     "output_type": "execute_result"
    }
   ],
   "source": [
    "import getpass\n",
    "username = getpass.getuser()\n",
    "username"
   ]
  },
  {
   "cell_type": "code",
   "execution_count": 7,
   "metadata": {},
   "outputs": [
    {
     "name": "stdout",
     "output_type": "stream",
     "text": [
      "0.10.0 ccf1dbb139c2666a6fd7a39e52b5042c17f5c922\n",
      "0.12.0 d5a6316d5c9b5512d0d1e1c0882c952115b67c39\n",
      "0.8.0 581947558a42fea8a4a83fe68ae63b79244199b6\n",
      "0.9.0 cb389f9a09d4cf4d75be97fa060829d78a07c3e0\n",
      "1.0.0 58683f53769ce38cec4a3194adc4c71cf3909914\n",
      "1.1.0 0b097da31eae1642dd8132f2996e74f7fe354e46\n",
      "2.0.0 5f8af5ef1d73398f9affd487b5fb89b45fd34f51\n",
      "2.0.1 8c16747a80d03afe11cac71e56c44fe749802f48\n",
      "2.1.0 ab772254cef153f2f7274baeb7b6778a1fe35e84\n",
      "2.1.1 ed5a862375e2f7244d4b6f78f67d53d8621525e6\n",
      "3.0.0 e5e4fb370ccf327bbdcdcd782eb3e53580e11094\n",
      "3.0.1 7fa8f8fa48b0903deab5bb42e6760477173ac485\n",
      "3.0.2 5708bf8fcc1bc2f26b73335dae49a601ecb8882d\n",
      "4.0.0 398343897f98b88ade80bbebdcbe82a36c65a980\n",
      "4.1.0 135ab5cf71ed731fc9fa0653051e7d4884a3652f\n",
      "5.0.0 5386f1df20392a08844f5034e8436c6ec7ce0b03\n",
      "5.1.0 c2ce7e4f07f7b34b2c7bbd0a4d0798b1d7007f4f\n",
      "5.2.0 295a0d84d947be5cd623daa240b0ce038c560063\n",
      "5.2.1 3e75ad9822980e41bc591938f26548f24eb88907\n",
      "5.3.0 9e554999ce02cf86fcdfe74fe740c4fe3f5a56d5\n",
      "v0.11.0 45397e5046fd866489551827c63ea4ef1280e1c3\n"
     ]
    }
   ],
   "source": [
    "from git import Repo\n",
    "\n",
    "repo = Repo(\"/home/don/dev/repos/fmt\")\n",
    "last_tag = repo.tags[-1]\n",
    "#print dir(last_tag)\n",
    "#print last_tag.commit\n",
    "#print repo.tags[-1], repo.tags[-2]\n",
    "#print repo.tags[0].tag\n",
    "\n",
    "# how can these tags be ordered? \n",
    "\n",
    "for tag in repo.tags:\n",
    "    print tag, tag.commit\n",
    "    "
   ]
  },
  {
   "cell_type": "code",
   "execution_count": 8,
   "metadata": {},
   "outputs": [
    {
     "data": {
      "text/plain": [
       "'{\"machine\": {\"host\": \"don-Inspiron-7537\", \"frequency\": 3000.0, \"core-count\": 2, \"thread-count\": 4, \"memory\": 8257839104}, \"date\": \"2019-06-15T17:18:16.730967\", \"version\": {\"sha1\": \"45397e5046fd866489551827c63ea4ef1280e1c3\", \"tag\": \"v0.11.0\"}, \"user\": \"don\"}'"
      ]
     },
     "execution_count": 8,
     "metadata": {},
     "output_type": "execute_result"
    }
   ],
   "source": [
    "import json\n",
    "import psutil\n",
    "import socket\n",
    "import getpass\n",
    "import datetime\n",
    "import git\n",
    "\n",
    "machine = {'core-count' : psutil.cpu_count(logical=False),\n",
    "        'thread-count': psutil.cpu_count(logical=True),\n",
    "        'frequency':  psutil.cpu_freq(percpu=False).max,\n",
    "        'memory': psutil.virtual_memory().total,\n",
    "        'host': socket.gethostname()}\n",
    "\n",
    "repo = git.Repo(\"/home/don/dev/repos/fmt\")\n",
    "last_tag = repo.tags[-1]\n",
    "\n",
    "version = {'sha1': str(last_tag.commit), 'tag': str(last_tag)}\n",
    "\n",
    "\n",
    "info = {'machine': machine, \"date\":  datetime.datetime.isoformat(datetime.datetime.now()), \"version\": version, \"user\": getpass.getuser()}\n",
    "json.dumps(info)"
   ]
  }
 ],
 "metadata": {
  "kernelspec": {
   "display_name": "Python 2",
   "language": "python",
   "name": "python2"
  },
  "language_info": {
   "codemirror_mode": {
    "name": "ipython",
    "version": 2
   },
   "file_extension": ".py",
   "mimetype": "text/x-python",
   "name": "python",
   "nbconvert_exporter": "python",
   "pygments_lexer": "ipython2",
   "version": "2.7.15rc1"
  }
 },
 "nbformat": 4,
 "nbformat_minor": 2
}
