{
 "cells": [
  {
   "cell_type": "code",
   "execution_count": 12,
   "metadata": {},
   "outputs": [],
   "source": [
    "import json\n",
    "import pandas\n",
    "import matplotlib.pyplot as plt\n",
    "import matplotlib\n",
    "plt.rcParams['figure.figsize'] = [15, 10]"
   ]
  },
  {
   "cell_type": "code",
   "execution_count": 2,
   "metadata": {},
   "outputs": [
    {
     "data": {
      "text/plain": [
       "{u'date': u'2019-06-15T13:46:00.357072',\n",
       " u'machine': {u'core-count': 2,\n",
       "  u'frequency': 3000.0,\n",
       "  u'host': u'don-Inspiron-7537',\n",
       "  u'memory': 8257839104,\n",
       "  u'thread-count': 4},\n",
       " u'user': u'don',\n",
       " u'version': {u'sha1': u'ccf1dbb139c2666a6fd7a39e52b5042c17f5c922',\n",
       "  u'tag': u'0.10.0'}}"
      ]
     },
     "execution_count": 2,
     "metadata": {},
     "output_type": "execute_result"
    }
   ],
   "source": [
    "with open('data/5f9c1aba-2701-44b9-98f8-41d45255ef1d.json') as f:\n",
    "    d = json.load(f)\n",
    "\n",
    "context = d[\"context\"]\n",
    "context"
   ]
  },
  {
   "cell_type": "code",
   "execution_count": 3,
   "metadata": {},
   "outputs": [
    {
     "name": "stdout",
     "output_type": "stream",
     "text": [
      "{u'test1': [1, 2, 2, 4], u'test2': [5, 5.1, 4.9, 4.0], u'test4': [21.1, 20.5, 30.0, 22.0]}\n"
     ]
    },
    {
     "data": {
      "text/html": [
       "<div>\n",
       "<style scoped>\n",
       "    .dataframe tbody tr th:only-of-type {\n",
       "        vertical-align: middle;\n",
       "    }\n",
       "\n",
       "    .dataframe tbody tr th {\n",
       "        vertical-align: top;\n",
       "    }\n",
       "\n",
       "    .dataframe thead th {\n",
       "        text-align: right;\n",
       "    }\n",
       "</style>\n",
       "<table border=\"1\" class=\"dataframe\">\n",
       "  <thead>\n",
       "    <tr style=\"text-align: right;\">\n",
       "      <th></th>\n",
       "      <th>test1</th>\n",
       "      <th>test2</th>\n",
       "      <th>test4</th>\n",
       "    </tr>\n",
       "  </thead>\n",
       "  <tbody>\n",
       "    <tr>\n",
       "      <th>0</th>\n",
       "      <td>1</td>\n",
       "      <td>5.0</td>\n",
       "      <td>21.1</td>\n",
       "    </tr>\n",
       "    <tr>\n",
       "      <th>1</th>\n",
       "      <td>2</td>\n",
       "      <td>5.1</td>\n",
       "      <td>20.5</td>\n",
       "    </tr>\n",
       "    <tr>\n",
       "      <th>2</th>\n",
       "      <td>2</td>\n",
       "      <td>4.9</td>\n",
       "      <td>30.0</td>\n",
       "    </tr>\n",
       "    <tr>\n",
       "      <th>3</th>\n",
       "      <td>4</td>\n",
       "      <td>4.0</td>\n",
       "      <td>22.0</td>\n",
       "    </tr>\n",
       "  </tbody>\n",
       "</table>\n",
       "</div>"
      ],
      "text/plain": [
       "   test1  test2  test4\n",
       "0      1    5.0   21.1\n",
       "1      2    5.1   20.5\n",
       "2      2    4.9   30.0\n",
       "3      4    4.0   22.0"
      ]
     },
     "execution_count": 3,
     "metadata": {},
     "output_type": "execute_result"
    }
   ],
   "source": [
    "tests = d[\"tests\"]\n",
    "print tests\n",
    "\n",
    "dataFrame = pandas.DataFrame(tests)\n",
    "dataFrame"
   ]
  },
  {
   "cell_type": "code",
   "execution_count": 4,
   "metadata": {},
   "outputs": [
    {
     "data": {
      "text/plain": [
       "test1    1.258306\n",
       "test2    0.506623\n",
       "test4    4.442972\n",
       "dtype: float64"
      ]
     },
     "execution_count": 4,
     "metadata": {},
     "output_type": "execute_result"
    }
   ],
   "source": [
    "series_standarddev = dataFrame.std()\n",
    "series_standarddev"
   ]
  },
  {
   "cell_type": "code",
   "execution_count": 5,
   "metadata": {},
   "outputs": [
    {
     "data": {
      "text/plain": [
       "test1     2.25\n",
       "test2     4.75\n",
       "test4    23.40\n",
       "dtype: float64"
      ]
     },
     "execution_count": 5,
     "metadata": {},
     "output_type": "execute_result"
    }
   ],
   "source": [
    "series_mean = dataFrame.mean()\n",
    "series_mean"
   ]
  },
  {
   "cell_type": "code",
   "execution_count": 13,
   "metadata": {},
   "outputs": [
    {
     "data": {
      "text/plain": [
       "<matplotlib.axes._subplots.AxesSubplot at 0x7f770abbedd0>"
      ]
     },
     "execution_count": 13,
     "metadata": {},
     "output_type": "execute_result"
    },
    {
     "data": {
      "image/png": "[encoded data removed]",
      "text/plain": [
       "<Figure size 1080x720 with 1 Axes>"
      ]
     },
     "metadata": {
      "needs_background": "light"
     },
     "output_type": "display_data"
    }
   ],
   "source": [
    "plot = dataFrame.plot()\n",
    "plot"
   ]
  },
  {
   "cell_type": "code",
   "execution_count": 7,
   "metadata": {},
   "outputs": [
    {
     "data": {
      "text/html": [
       "<div>\n",
       "<style scoped>\n",
       "    .dataframe tbody tr th:only-of-type {\n",
       "        vertical-align: middle;\n",
       "    }\n",
       "\n",
       "    .dataframe tbody tr th {\n",
       "        vertical-align: top;\n",
       "    }\n",
       "\n",
       "    .dataframe thead th {\n",
       "        text-align: right;\n",
       "    }\n",
       "</style>\n",
       "<table border=\"1\" class=\"dataframe\">\n",
       "  <thead>\n",
       "    <tr style=\"text-align: right;\">\n",
       "      <th></th>\n",
       "      <th>mean</th>\n",
       "      <th>std</th>\n",
       "    </tr>\n",
       "  </thead>\n",
       "  <tbody>\n",
       "    <tr>\n",
       "      <th>test1</th>\n",
       "      <td>2.25</td>\n",
       "      <td>1.258306</td>\n",
       "    </tr>\n",
       "    <tr>\n",
       "      <th>test2</th>\n",
       "      <td>4.75</td>\n",
       "      <td>0.506623</td>\n",
       "    </tr>\n",
       "    <tr>\n",
       "      <th>test4</th>\n",
       "      <td>23.40</td>\n",
       "      <td>4.442972</td>\n",
       "    </tr>\n",
       "  </tbody>\n",
       "</table>\n",
       "</div>"
      ],
      "text/plain": [
       "        mean       std\n",
       "test1   2.25  1.258306\n",
       "test2   4.75  0.506623\n",
       "test4  23.40  4.442972"
      ]
     },
     "execution_count": 7,
     "metadata": {},
     "output_type": "execute_result"
    }
   ],
   "source": [
    " pandas.DataFrame({\"mean\": series_mean, \"std\": series_standarddev})"
   ]
  },
  {
   "cell_type": "code",
   "execution_count": 8,
   "metadata": {},
   "outputs": [
    {
     "data": {
      "text/html": [
       "<div>\n",
       "<style scoped>\n",
       "    .dataframe tbody tr th:only-of-type {\n",
       "        vertical-align: middle;\n",
       "    }\n",
       "\n",
       "    .dataframe tbody tr th {\n",
       "        vertical-align: top;\n",
       "    }\n",
       "\n",
       "    .dataframe thead th {\n",
       "        text-align: right;\n",
       "    }\n",
       "</style>\n",
       "<table border=\"1\" class=\"dataframe\">\n",
       "  <thead>\n",
       "    <tr style=\"text-align: right;\">\n",
       "      <th></th>\n",
       "      <th>mean_[v0.11.0]</th>\n",
       "      <th>std_[v0.11.0]</th>\n",
       "      <th>mean_[0.12.0]</th>\n",
       "      <th>std_[0.12.0]</th>\n",
       "      <th>mean_[0.10.0]</th>\n",
       "      <th>std_[0.10.0]</th>\n",
       "      <th>mean_[0.8.0]</th>\n",
       "      <th>std_[0.8.0]</th>\n",
       "    </tr>\n",
       "  </thead>\n",
       "  <tbody>\n",
       "    <tr>\n",
       "      <th>test1</th>\n",
       "      <td>2.50</td>\n",
       "      <td>1.290994</td>\n",
       "      <td>2.375</td>\n",
       "      <td>1.250000</td>\n",
       "      <td>2.25</td>\n",
       "      <td>1.258306</td>\n",
       "      <td>2.25</td>\n",
       "      <td>1.707825</td>\n",
       "    </tr>\n",
       "    <tr>\n",
       "      <th>test2</th>\n",
       "      <td>4.75</td>\n",
       "      <td>0.506623</td>\n",
       "      <td>4.750</td>\n",
       "      <td>0.506623</td>\n",
       "      <td>4.75</td>\n",
       "      <td>0.506623</td>\n",
       "      <td>4.75</td>\n",
       "      <td>0.506623</td>\n",
       "    </tr>\n",
       "    <tr>\n",
       "      <th>test4</th>\n",
       "      <td>30.65</td>\n",
       "      <td>13.620695</td>\n",
       "      <td>23.400</td>\n",
       "      <td>4.442972</td>\n",
       "      <td>23.40</td>\n",
       "      <td>4.442972</td>\n",
       "      <td>23.40</td>\n",
       "      <td>4.442972</td>\n",
       "    </tr>\n",
       "  </tbody>\n",
       "</table>\n",
       "</div>"
      ],
      "text/plain": [
       "       mean_[v0.11.0]  std_[v0.11.0]  mean_[0.12.0]  std_[0.12.0]  \\\n",
       "test1            2.50       1.290994          2.375      1.250000   \n",
       "test2            4.75       0.506623          4.750      0.506623   \n",
       "test4           30.65      13.620695         23.400      4.442972   \n",
       "\n",
       "       mean_[0.10.0]  std_[0.10.0]  mean_[0.8.0]  std_[0.8.0]  \n",
       "test1           2.25      1.258306          2.25     1.707825  \n",
       "test2           4.75      0.506623          4.75     0.506623  \n",
       "test4          23.40      4.442972         23.40     4.442972  "
      ]
     },
     "execution_count": 8,
     "metadata": {},
     "output_type": "execute_result"
    }
   ],
   "source": [
    "import glob\n",
    "import json\n",
    "import pandas\n",
    "import matplotlib\n",
    "\n",
    "def make_frame(path):\n",
    "    with open(path) as f:\n",
    "        d = json.load(f)\n",
    "    \n",
    "    tests = d[\"tests\"]\n",
    "    context = d[\"context\"]\n",
    "    \n",
    "    dataFrame = pandas.DataFrame(tests)\n",
    "    series_standarddev = dataFrame.std()\n",
    "    series_mean = dataFrame.mean()\n",
    "    frame = pandas.DataFrame({\"mean\": series_mean, \"std\": series_standarddev})\n",
    "    \n",
    "    tag = context['version']['tag']\n",
    "    \n",
    "    frame.rename(columns={'mean':'mean_[{}]'.format(tag),\n",
    "                          'std':'std_[{}]'.format(tag),\n",
    "                          }, \n",
    "                 inplace=True)\n",
    "    \n",
    "    return (context, frame)\n",
    "        \n",
    "\n",
    "data_paths = glob.glob(\"data/*.json\")\n",
    "current_frame = None\n",
    "\n",
    "tags = []\n",
    "\n",
    "for data_path in data_paths:\n",
    "    context, frame  = make_frame(data_path)\n",
    "    tag = context['version']['tag']\n",
    "    tags.append(tag)\n",
    "    if current_frame is None:\n",
    "        current_frame = frame\n",
    "    else:\n",
    "        current_frame = pandas.merge(current_frame, frame, right_index=True, left_index=True)\n",
    "\n",
    "\n",
    "data_frame = current_frame\n",
    "data_frame"
   ]
  },
  {
   "cell_type": "code",
   "execution_count": 18,
   "metadata": {
    "scrolled": true
   },
   "outputs": [
    {
     "data": {
      "image/png": "[encoded data removed]",
      "text/plain": [
       "<Figure size 1080x720 with 1 Axes>"
      ]
     },
     "metadata": {
      "needs_background": "light"
     },
     "output_type": "display_data"
    }
   ],
   "source": [
    "x = data_frame.index.tolist()\n",
    "\n",
    "handles = []\n",
    "\n",
    "\n",
    "for tag in tags:\n",
    "    y = data_frame['mean_[{}]'.format(tag)]\n",
    "    e = data_frame['std_[{}]'.format(tag)]\n",
    "        \n",
    "    handles.append( plt.errorbar(x, y, e, linestyle='None', marker='^', label=tag))\n",
    "\n",
    "plt.legend(handles=handles)\n",
    "plt.savefig('report_output.png')\n",
    "plt.show()\n",
    "\n"
   ]
  },
  {
   "cell_type": "code",
   "execution_count": 44,
   "metadata": {},
   "outputs": [
    {
     "data": {
      "text/html": [
       "\n",
       "        <iframe\n",
       "            width=\"700\"\n",
       "            height=\"600\"\n",
       "            src=\"./report-output.html\"\n",
       "            frameborder=\"0\"\n",
       "            allowfullscreen\n",
       "        ></iframe>\n",
       "        "
      ],
      "text/plain": [
       "<IPython.lib.display.IFrame at 0x7f770a448c10>"
      ]
     },
     "execution_count": 44,
     "metadata": {},
     "output_type": "execute_result"
    }
   ],
   "source": [
    "import jinja2\n",
    "from IPython.core.display import HTML\n",
    "from IPython.display import IFrame\n",
    "\n",
    "env = jinja2.Environment(\n",
    "    loader=jinja2.FileSystemLoader('./report_template'),\n",
    "    autoescape=jinja2.select_autoescape(['html', 'xml'])\n",
    "                        )\n",
    "\n",
    "template = env.get_template('report_template.html')\n",
    "html = template.render(username='don')\n",
    "with open(\"report-output.html\", 'w') as f:\n",
    "    f.write(html)\n",
    "\n",
    "IFrame(src='./report-output.html', width=700, height=600)\n"
   ]
  }
 ],
 "metadata": {
  "kernelspec": {
   "display_name": "Python 2",
   "language": "python",
   "name": "python2"
  },
  "language_info": {
   "codemirror_mode": {
    "name": "ipython",
    "version": 2
   },
   "file_extension": ".py",
   "mimetype": "text/x-python",
   "name": "python",
   "nbconvert_exporter": "python",
   "pygments_lexer": "ipython2",
   "version": "2.7.15rc1"
  }
 },
 "nbformat": 4,
 "nbformat_minor": 2
}
